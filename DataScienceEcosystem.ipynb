{
 "cells": [
  {
   "cell_type": "markdown",
   "id": "29fdd3ec",
   "metadata": {},
   "source": [
    "# Data Science Tools and Ecosystem "
   ]
  },
  {
   "cell_type": "markdown",
   "id": "ac5c486c",
   "metadata": {},
   "source": [
    "In this notebook data science tools and ecosystem are summarized"
   ]
  },
  {
   "cell_type": "markdown",
   "id": "d373d500",
   "metadata": {},
   "source": [
    "**Objectives**\n",
    "* List some popular languages for data science \n",
    "* List some popular libraries used in data science \n",
    "* List some popular data science tools \n",
    "* Evaluation of some arithmetic expressions using python"
   ]
  },
  {
   "cell_type": "markdown",
   "id": "56efa3e2",
   "metadata": {},
   "source": [
    "Some of the popular languages which data scientists use are: \n",
    "1. Python \n",
    "2. R \n",
    "3. Julia \n",
    "4. Scala \n"
   ]
  },
  {
   "cell_type": "markdown",
   "id": "c0d3f8b5",
   "metadata": {},
   "source": [
    "Some of the commonly used libraries used by data scientists include: \n",
    "1. Pandas\n",
    "2. Numpy\n",
    "3. Matplotlib\n",
    "4. Scikit-Learn\n"
   ]
  },
  {
   "cell_type": "markdown",
   "id": "a754290e",
   "metadata": {},
   "source": [
    "|Data Science Tools|\n",
    "|---|\n",
    "|Jupyter Notebook|\n",
    "|Visual Studio|\n",
    "|R Studio|"
   ]
  },
  {
   "cell_type": "markdown",
   "id": "f7f918e7",
   "metadata": {},
   "source": [
    "### Below are few examples of evaluating arithmetic expressions in python."
   ]
  },
  {
   "cell_type": "code",
   "execution_count": 2,
   "id": "a72adbd2",
   "metadata": {},
   "outputs": [
    {
     "data": {
      "text/plain": [
       "17"
      ]
     },
     "execution_count": 2,
     "metadata": {},
     "output_type": "execute_result"
    }
   ],
   "source": [
    "# This is a simple arithmetic expression to multiply then add integers \n",
    "(3*4)+5"
   ]
  },
  {
   "cell_type": "code",
   "execution_count": 3,
   "id": "813c9b56",
   "metadata": {},
   "outputs": [
    {
     "data": {
      "text/plain": [
       "3.3333333333333335"
      ]
     },
     "execution_count": 3,
     "metadata": {},
     "output_type": "execute_result"
    }
   ],
   "source": [
    "# This will convert 200 minutes into hours by dividing by 60 \n",
    "200/60"
   ]
  },
  {
   "cell_type": "markdown",
   "id": "2aba0186",
   "metadata": {},
   "source": [
    "## Author \n",
    "Abhishek Agarwal"
   ]
  },
  {
   "cell_type": "code",
   "execution_count": null,
   "id": "e9b4f7cc",
   "metadata": {},
   "outputs": [],
   "source": []
  }
 ],
 "metadata": {
  "kernelspec": {
   "display_name": "Python 3 (ipykernel)",
   "language": "python",
   "name": "python3"
  },
  "language_info": {
   "codemirror_mode": {
    "name": "ipython",
    "version": 3
   },
   "file_extension": ".py",
   "mimetype": "text/x-python",
   "name": "python",
   "nbconvert_exporter": "python",
   "pygments_lexer": "ipython3",
   "version": "3.11.5"
  }
 },
 "nbformat": 4,
 "nbformat_minor": 5
}
